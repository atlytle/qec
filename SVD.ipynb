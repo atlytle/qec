{
 "cells": [
  {
   "cell_type": "markdown",
   "metadata": {},
   "source": [
    "# Imports and definitions"
   ]
  },
  {
   "cell_type": "code",
   "execution_count": 1,
   "metadata": {},
   "outputs": [],
   "source": [
    "import numpy as np"
   ]
  },
  {
   "cell_type": "code",
   "execution_count": 47,
   "metadata": {},
   "outputs": [],
   "source": [
    "def to_diag(S, m, n):\n",
    "    \"m x n matrix with (m) elements of S along diagonal, padded with zeros.\"\n",
    "    res = np.zeros((m,n))\n",
    "    for i, val in enumerate(S):\n",
    "        res[i,i] = val\n",
    "    return res\n",
    "\n",
    "def dotall(Ms):\n",
    "    \"Multiply matrices [M1, M2, ..., Mn] together.\"\n",
    "    res = np.identity(Ms[-1].shape[1])\n",
    "    print(res)\n",
    "    print(res.shape)\n",
    "    for M in reversed(Ms):\n",
    "        res = np.dot(M, res)\n",
    "    return res\n",
    "\n"
   ]
  },
  {
   "cell_type": "markdown",
   "metadata": {},
   "source": [
    "# Singular value decomposition"
   ]
  },
  {
   "cell_type": "markdown",
   "metadata": {},
   "source": [
    "The singular value decomposition is an extremely general matrix factorization, which exists for any $m \\times n$ complex matrix $M$.\n",
    "We write $M = U_{m \\times m} \\Sigma_{m \\times n} V^\\dagger_{n \\times n}$, where $U$ and $V$ are *unitary*, and $\\Sigma$ has non-negative real numbers along the diagonal. The size of the matrices has been written out in the subscripts. The elements of $\\Sigma$ (called singular values) are uniquely determined and the number of non-zero elements gives the *rank* of $M$. We can take these elements to be in descending order, say, which then makes $\\Sigma$ uniquely determined by $M$.\n",
    "\n",
    "Recall that the *rank* of a matrix is the dimension of the vector space spanned by its columns. The number of zero entries give the dimension of the *kernel*, or *null space*, i.e. the vector space that is mapped to 0 by $M$."
   ]
  },
  {
   "cell_type": "code",
   "execution_count": 49,
   "metadata": {
    "lines_to_next_cell": 2
   },
   "outputs": [
    {
     "name": "stdout",
     "output_type": "stream",
     "text": [
      "(9, 9) (6,) (6, 6)\n",
      "[[1. 0. 0. 0. 0. 0.]\n",
      " [0. 1. 0. 0. 0. 0.]\n",
      " [0. 0. 1. 0. 0. 0.]\n",
      " [0. 0. 0. 1. 0. 0.]\n",
      " [0. 0. 0. 0. 1. 0.]\n",
      " [0. 0. 0. 0. 0. 1.]]\n",
      "(6, 6)\n"
     ]
    },
    {
     "data": {
      "text/plain": [
       "True"
      ]
     },
     "execution_count": 49,
     "metadata": {},
     "output_type": "execute_result"
    }
   ],
   "source": [
    "M = np.random.randn(9, 6) + 1j*np.random.randn(9, 6)\n",
    "U, S, Vh = np.linalg.svd(M, full_matrices=True)\n",
    "print(U.shape, S.shape, Vh.shape)\n",
    "S = to_diag(S, 9, 6)\n",
    "np.allclose(M, dotall([U, S, Vh]))"
   ]
  },
  {
   "cell_type": "markdown",
   "metadata": {},
   "source": [
    "# Schmidt decomposition and entanglement"
   ]
  },
  {
   "cell_type": "markdown",
   "metadata": {},
   "source": []
  }
 ],
 "metadata": {
  "kernelspec": {
   "display_name": "env",
   "language": "python",
   "name": "python3"
  },
  "language_info": {
   "codemirror_mode": {
    "name": "ipython",
    "version": 3
   },
   "file_extension": ".py",
   "mimetype": "text/x-python",
   "name": "python",
   "nbconvert_exporter": "python",
   "pygments_lexer": "ipython3",
   "version": "3.8.10"
  }
 },
 "nbformat": 4,
 "nbformat_minor": 2
}
