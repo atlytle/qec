{
 "cells": [
  {
   "cell_type": "markdown",
   "metadata": {},
   "source": [
    "# Imports and definitions"
   ]
  },
  {
   "cell_type": "code",
   "execution_count": 2,
   "metadata": {},
   "outputs": [],
   "source": [
    "import numpy as np"
   ]
  },
  {
   "cell_type": "code",
   "execution_count": 3,
   "metadata": {},
   "outputs": [],
   "source": [
    "def to_diag(S, m, n):\n",
    "    \"m x n matrix with (m) elements of S along diagonal, padded with zeros.\"\n",
    "    res = np.zeros((m,n))\n",
    "    for i, val in enumerate(S):\n",
    "        res[i,i] = val\n",
    "    return res\n",
    "\n",
    "def dotall(Ms):\n",
    "    \"Multiply matrices [M1, M2, ..., Mn] together.\"\n",
    "    res = np.identity(Ms[-1].shape[1])\n",
    "    for M in reversed(Ms):\n",
    "        res = np.dot(M, res)\n",
    "    return res\n",
    "\n"
   ]
  },
  {
   "cell_type": "markdown",
   "metadata": {},
   "source": [
    "# Singular value decomposition"
   ]
  },
  {
   "cell_type": "markdown",
   "metadata": {},
   "source": [
    "The singular value decomposition is an extremely general matrix factorization, which exists for any $m \\times n$ complex matrix $M$.\n",
    "We write $M = U_{m \\times m} \\Sigma_{m \\times n} V^\\dagger_{n \\times n}$, where $U$ and $V$ are *unitary*, and $\\Sigma$ has non-negative real numbers along the diagonal. The size of the matrices has been written out in the subscripts. The elements of $\\Sigma$ (called singular values) are uniquely determined, and the number of non-zero elements gives the *rank* of $M$. We can take these elements to be in descending order, say, which then makes $\\Sigma$ uniquely determined by $M$.\n",
    "\n",
    "Recall that the *rank* of a matrix is the dimension of the vector space spanned by its columns. $r \\leq \\min{(m,n)}$. We can take $\\Sigma$ to be $r \\times r$ as well (remove zero entries), in which case $M = U_{m \\times r} \\Sigma_{r \\times r} V^\\dagger_{r \\times n}$ and the columns/rows of $U$/$V^\\dagger$ corresponding to zero entries have been removed."
   ]
  },
  {
   "cell_type": "code",
   "execution_count": 11,
   "metadata": {
    "lines_to_next_cell": 2
   },
   "outputs": [
    {
     "name": "stdout",
     "output_type": "stream",
     "text": [
      "(9, 9) (6,) (6, 6)\n",
      "(9, 6) (6,) (6, 6)\n"
     ]
    },
    {
     "data": {
      "text/plain": [
       "True"
      ]
     },
     "execution_count": 11,
     "metadata": {},
     "output_type": "execute_result"
    }
   ],
   "source": [
    "m, n = 9, 6  # Matrix dimensions.\n",
    "M = np.random.randn(m, n) + 1j*np.random.randn(m, n)\n",
    "\n",
    "# Full  SVD.\n",
    "U, S, Vh = np.linalg.svd(M, full_matrices=True)\n",
    "print(U.shape, S.shape, Vh.shape)  # S is a list of singular values.\n",
    "S = to_diag(S, m, n)  # Convert S to a diagonal matrix.\n",
    "np.allclose(M, dotall([U, S, Vh]))\n",
    "\n",
    "# Reduced SVD.\n",
    "U, S, Vh = np.linalg.svd(M, full_matrices=False)\n",
    "print(U.shape, S.shape, Vh.shape)  # S is a list of singular values.\n",
    "r = S.shape[0]\n",
    "S = to_diag(S, r, r)  # Convert S to a diagonal matrix.\n",
    "np.allclose(M, dotall([U, S, Vh]))"
   ]
  },
  {
   "cell_type": "markdown",
   "metadata": {},
   "source": [
    "# Schmidt decomposition and entanglement"
   ]
  },
  {
   "cell_type": "markdown",
   "metadata": {},
   "source": [
    "The Schmidt decomposition of a vector is essentially a rephrasing of SVD. It can tell us e.g. about entanglement in a quantum state."
   ]
  },
  {
   "cell_type": "markdown",
   "metadata": {},
   "source": []
  }
 ],
 "metadata": {
  "kernelspec": {
   "display_name": "env",
   "language": "python",
   "name": "python3"
  },
  "language_info": {
   "codemirror_mode": {
    "name": "ipython",
    "version": 3
   },
   "file_extension": ".py",
   "mimetype": "text/x-python",
   "name": "python",
   "nbconvert_exporter": "python",
   "pygments_lexer": "ipython3",
   "version": "3.8.10"
  }
 },
 "nbformat": 4,
 "nbformat_minor": 2
}
